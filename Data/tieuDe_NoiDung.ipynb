{
 "cells": [
  {
   "cell_type": "code",
   "execution_count": 1,
   "id": "00c9c296-61b2-4ac9-9d92-61161652d406",
   "metadata": {},
   "outputs": [
    {
     "name": "stdout",
     "output_type": "stream",
     "text": [
      "Requirement already satisfied: trafilatura in c:\\users\\admin\\anaconda3\\lib\\site-packages (1.9.0)\n",
      "Requirement already satisfied: certifi in c:\\users\\admin\\anaconda3\\lib\\site-packages (from trafilatura) (2024.2.2)\n",
      "Requirement already satisfied: courlan>=1.1.0 in c:\\users\\admin\\anaconda3\\lib\\site-packages (from trafilatura) (1.1.0)\n",
      "Requirement already satisfied: htmldate>=1.8.1 in c:\\users\\admin\\anaconda3\\lib\\site-packages (from trafilatura) (1.8.1)\n",
      "Requirement already satisfied: justext>=3.0.0 in c:\\users\\admin\\anaconda3\\lib\\site-packages (from trafilatura) (3.0.1)\n",
      "Requirement already satisfied: lxml<5.2.0,>=4.9.4 in c:\\users\\admin\\anaconda3\\lib\\site-packages (from trafilatura) (5.1.1)\n",
      "Requirement already satisfied: charset-normalizer>=3.2.0 in c:\\users\\admin\\anaconda3\\lib\\site-packages (from trafilatura) (3.3.2)\n",
      "Requirement already satisfied: urllib3<3,>=1.26 in c:\\users\\admin\\anaconda3\\lib\\site-packages (from trafilatura) (2.0.7)\n",
      "Requirement already satisfied: babel>=2.11.0 in c:\\users\\admin\\anaconda3\\lib\\site-packages (from courlan>=1.1.0->trafilatura) (2.11.0)\n",
      "Requirement already satisfied: tld>=0.13 in c:\\users\\admin\\anaconda3\\lib\\site-packages (from courlan>=1.1.0->trafilatura) (0.13)\n",
      "Requirement already satisfied: dateparser>=1.1.2 in c:\\users\\admin\\anaconda3\\lib\\site-packages (from htmldate>=1.8.1->trafilatura) (1.2.0)\n",
      "Requirement already satisfied: python-dateutil>=2.8.2 in c:\\users\\admin\\anaconda3\\lib\\site-packages (from htmldate>=1.8.1->trafilatura) (2.8.2)\n",
      "Requirement already satisfied: pytz>=2015.7 in c:\\users\\admin\\anaconda3\\lib\\site-packages (from babel>=2.11.0->courlan>=1.1.0->trafilatura) (2023.3.post1)\n",
      "Requirement already satisfied: regex!=2019.02.19,!=2021.8.27 in c:\\users\\admin\\anaconda3\\lib\\site-packages (from dateparser>=1.1.2->htmldate>=1.8.1->trafilatura) (2023.10.3)\n",
      "Requirement already satisfied: tzlocal in c:\\users\\admin\\anaconda3\\lib\\site-packages (from dateparser>=1.1.2->htmldate>=1.8.1->trafilatura) (2.1)\n",
      "Requirement already satisfied: six>=1.5 in c:\\users\\admin\\anaconda3\\lib\\site-packages (from python-dateutil>=2.8.2->htmldate>=1.8.1->trafilatura) (1.16.0)\n",
      "Note: you may need to restart the kernel to use updated packages.\n"
     ]
    },
    {
     "name": "stderr",
     "output_type": "stream",
     "text": [
      "WARNING: lxml 5.1.1 does not provide the extra 'html-clean'\n"
     ]
    }
   ],
   "source": [
    "pip install trafilatura"
   ]
  },
  {
   "cell_type": "code",
   "execution_count": null,
   "id": "7eb162e8-99d5-41ab-94ac-e269271deeb6",
   "metadata": {},
   "outputs": [
    {
     "name": "stdin",
     "output_type": "stream",
     "text": [
      "Nhập tên miền:  https://vnexpress.net/4-ngan-hang-quoc-doanh-se-ban-vang-binh-on-gia-4751893.html\n"
     ]
    },
    {
     "name": "stdout",
     "output_type": "stream",
     "text": [
      "Nội dung đã được lưu vào file: output_2024-05-29_16-52-22.txt\n"
     ]
    },
    {
     "name": "stdin",
     "output_type": "stream",
     "text": [
      "Nhập tên miền:  https://vnexpress.net/dai-bieu-pham-van-hoa-de-nghi-khoan-hong-cho-can-bo-lo-nhung-cham-4751876.html\n"
     ]
    },
    {
     "name": "stdout",
     "output_type": "stream",
     "text": [
      "Nội dung đã được lưu vào file: output_2024-05-29_16-52-46.txt\n"
     ]
    },
    {
     "name": "stdin",
     "output_type": "stream",
     "text": [
      "Nhập tên miền:  https://vnexpress.net/khong-the-khuyen-khich-can-bo-vuot-rao-thuc-thi-nhiem-vu-4671840.html\n"
     ]
    },
    {
     "name": "stdout",
     "output_type": "stream",
     "text": [
      "Nội dung đã được lưu vào file: output_2024-05-29_16-52-57.txt\n"
     ]
    },
    {
     "name": "stdin",
     "output_type": "stream",
     "text": [
      "Nhập tên miền:  https://vnexpress.net/can-bo-dam-nghi-dam-lam-se-duoc-mien-trach-nhiem-4659240.html\n"
     ]
    },
    {
     "name": "stdout",
     "output_type": "stream",
     "text": [
      "Nội dung đã được lưu vào file: output_2024-05-29_16-53-08.txt\n"
     ]
    },
    {
     "name": "stdin",
     "output_type": "stream",
     "text": [
      "Nhập tên miền:  https://vnexpress.net/bo-noi-vu-de-xuat-can-bo-dam-nghi-dam-lam-duoc-mien-ky-luat-4585334.html\n"
     ]
    },
    {
     "name": "stdout",
     "output_type": "stream",
     "text": [
      "Nội dung đã được lưu vào file: output_2024-05-29_16-53-27.txt\n"
     ]
    },
    {
     "name": "stdin",
     "output_type": "stream",
     "text": [
      "Nhập tên miền:  https://vnexpress.net/de-xuat-nha-nuoc-ho-tro-hoc-phi-cho-sinh-vien-y-khoa-4751799.html\n"
     ]
    },
    {
     "name": "stdout",
     "output_type": "stream",
     "text": [
      "Nội dung đã được lưu vào file: output_2024-05-29_16-53-48.txt\n"
     ]
    },
    {
     "name": "stdin",
     "output_type": "stream",
     "text": [
      "Nhập tên miền:  https://vnexpress.net/nhan-bang-tien-si-vien-chuc-y-te-hai-phong-duoc-ho-tro-90-trieu-dong-4685707.html\n"
     ]
    },
    {
     "name": "stdout",
     "output_type": "stream",
     "text": [
      "Nội dung đã được lưu vào file: output_2024-05-29_16-54-02.txt\n"
     ]
    },
    {
     "name": "stdin",
     "output_type": "stream",
     "text": [
      "Nhập tên miền:  https://vnexpress.net/hai-phong-mien-le-phi-lam-so-do-4685618.html\n"
     ]
    },
    {
     "name": "stdout",
     "output_type": "stream",
     "text": [
      "Nội dung đã được lưu vào file: output_2024-05-29_16-54-15.txt\n"
     ]
    },
    {
     "name": "stdin",
     "output_type": "stream",
     "text": [
      "Nhập tên miền:  https://vnexpress.net/chu-tich-tp-hai-phong-dat-so-phieu-tin-nhiem-cao-thu-tu-4685819.html\n"
     ]
    },
    {
     "name": "stdout",
     "output_type": "stream",
     "text": [
      "Nội dung đã được lưu vào file: output_2024-05-29_16-54-32.txt\n"
     ]
    }
   ],
   "source": [
    "import requests\n",
    "from bs4 import BeautifulSoup\n",
    "import datetime\n",
    "\n",
    "def get_title(html):\n",
    "    # Sử dụng BeautifulSoup để phân tích cú pháp HTML\n",
    "    soup = BeautifulSoup(html, 'html.parser')\n",
    "    # Tìm kiếm phần tử title trong trang web\n",
    "    title = soup.find('title')\n",
    "    # Nếu không tìm thấy phần tử title, thử dùng h1\n",
    "    if not title:\n",
    "        title = soup.find('h1')\n",
    "    # Nếu vẫn không tìm thấy, bỏ qua tiêu đề\n",
    "    if not title:\n",
    "        return 'Không có tiêu đề'\n",
    "    # Trả về nội dung văn bản của phần tử title\n",
    "    return title.text\n",
    "\n",
    "while True:\n",
    "    url = input('Nhập tên miền: ')\n",
    "    \n",
    "    if not url:  \n",
    "        break\n",
    "    \n",
    "    response = requests.get(url)\n",
    "\n",
    "    if response.status_code == 200:\n",
    "        # Sử dụng hàm get_title để lấy tiêu đề của trang web\n",
    "        title = get_title(response.text)\n",
    "        \n",
    "        # Lấy nội dung chính của trang web bằng trafilatura\n",
    "        text_content = trafilatura.extract(response.text)\n",
    "\n",
    "        # Tạo tên file từ thời gian hiện tại\n",
    "        current_time = datetime.datetime.now()\n",
    "        file_name = f'output_{current_time.strftime(\"%Y-%m-%d_%H-%M-%S\")}.txt'\n",
    "\n",
    "        with open(file_name, 'w', encoding='utf-8') as file:\n",
    "            # Ghi tiêu đề và nội dung vào file\n",
    "            file.write(title + '\\n\\n')\n",
    "            file.write(text_content)\n",
    "\n",
    "        print('Nội dung đã được lưu vào file:', file_name)\n",
    "    else:\n",
    "        print('Không thể tải dữ liệu từ trang web.')\n"
   ]
  },
  {
   "cell_type": "code",
   "execution_count": null,
   "id": "6e122110-bd26-4256-a6dc-2653e2558115",
   "metadata": {},
   "outputs": [],
   "source": []
  }
 ],
 "metadata": {
  "kernelspec": {
   "display_name": "Python 3 (ipykernel)",
   "language": "python",
   "name": "python3"
  },
  "language_info": {
   "codemirror_mode": {
    "name": "ipython",
    "version": 3
   },
   "file_extension": ".py",
   "mimetype": "text/x-python",
   "name": "python",
   "nbconvert_exporter": "python",
   "pygments_lexer": "ipython3",
   "version": "3.11.7"
  }
 },
 "nbformat": 4,
 "nbformat_minor": 5
}
