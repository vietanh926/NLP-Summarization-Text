{
 "cells": [
  {
   "cell_type": "code",
   "execution_count": null,
   "id": "7eb162e8-99d5-41ab-94ac-e269271deeb6",
   "metadata": {},
   "outputs": [
    {
     "name": "stdin",
     "output_type": "stream",
     "text": [
      "Nhập tên miền:  https://vnexpress.net/de-xuat-nguoi-lao-dong-dong-bu-khoan-bhxh-bi-tron-de-huong-che-do-4751222.html\n"
     ]
    },
    {
     "name": "stdout",
     "output_type": "stream",
     "text": [
      "Nội dung đã được lưu vào file: output_2024-05-28_11-20-11.txt\n"
     ]
    }
   ],
   "source": [
    "import requests\n",
    "from bs4 import BeautifulSoup\n",
    "import datetime\n",
    "import trafilatura \n",
    "\n",
    "def get_title(html):\n",
    "    # Sử dụng BeautifulSoup để phân tích cú pháp HTML\n",
    "    soup = BeautifulSoup(html, 'html.parser')\n",
    "    # Tìm kiếm phần tử title trong trang web\n",
    "    title = soup.find('title')\n",
    "    # Nếu không tìm thấy phần tử title, thử dùng h1\n",
    "    if not title:\n",
    "        title = soup.find('h1')\n",
    "    # Nếu vẫn không tìm thấy, bỏ qua tiêu đề\n",
    "    if not title:\n",
    "        return 'Không có tiêu đề'\n",
    "    # Trả về nội dung văn bản của phần tử title\n",
    "    return title.text\n",
    "\n",
    "while True:\n",
    "    url = input('Nhập tên miền: ')\n",
    "    \n",
    "    if not url:  \n",
    "        break\n",
    "    \n",
    "    response = requests.get(url)\n",
    "\n",
    "    if response.status_code == 200:\n",
    "        # Sử dụng hàm get_title để lấy tiêu đề của trang web\n",
    "        title = get_title(response.text)\n",
    "        \n",
    "        # Lấy nội dung chính của trang web bằng trafilatura\n",
    "        text_content = trafilatura.extract(response.text)\n",
    "\n",
    "        # Tạo tên file từ thời gian hiện tại\n",
    "        current_time = datetime.datetime.now()\n",
    "        file_name = f'output_{current_time.strftime(\"%Y-%m-%d_%H-%M-%S\")}.txt'\n",
    "\n",
    "        with open(file_name, 'w', encoding='utf-8') as file:\n",
    "            # Ghi tiêu đề và nội dung vào file\n",
    "            file.write(title + '\\n\\n')\n",
    "            file.write(text_content)\n",
    "\n",
    "        print('Nội dung đã được lưu vào file:', file_name)\n",
    "    else:\n",
    "        print('Không thể tải dữ liệu từ trang web.')\n"
   ]
  },
  {
   "cell_type": "code",
   "execution_count": null,
   "id": "6e122110-bd26-4256-a6dc-2653e2558115",
   "metadata": {},
   "outputs": [],
   "source": []
  }
 ],
 "metadata": {
  "kernelspec": {
   "display_name": "Python 3 (ipykernel)",
   "language": "python",
   "name": "python3"
  },
  "language_info": {
   "codemirror_mode": {
    "name": "ipython",
    "version": 3
   },
   "file_extension": ".py",
   "mimetype": "text/x-python",
   "name": "python",
   "nbconvert_exporter": "python",
   "pygments_lexer": "ipython3",
   "version": "3.9.17"
  },
  "widgets": {
   "application/vnd.jupyter.widget-state+json": {
    "state": {},
    "version_major": 2,
    "version_minor": 0
   }
  }
 },
 "nbformat": 4,
 "nbformat_minor": 5
}
