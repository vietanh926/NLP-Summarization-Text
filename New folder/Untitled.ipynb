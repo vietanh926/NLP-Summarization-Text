{
 "cells": [
  {
   "cell_type": "code",
   "execution_count": null,
   "id": "55a74a6e-5d85-4a1e-8444-e8ef7e057e2f",
   "metadata": {},
   "outputs": [
    {
     "name": "stdin",
     "output_type": "stream",
     "text": [
      "Nhập tên miền:  https://howkteam.vn/course/cau-truc-du-lieu-va-giai-thuat/cac-kien-thuc-can-thiet-de-theo-doi-khoa-hoc-4311\n"
     ]
    },
    {
     "name": "stdout",
     "output_type": "stream",
     "text": [
      "Nội dung đã được lưu vào file: output_2024-03-21_10-15-03.txt\n"
     ]
    },
    {
     "name": "stdin",
     "output_type": "stream",
     "text": [
      "Nhập tên miền:  https://howkteam.vn/course/cau-truc-du-lieu-va-giai-thuat/do-phuc-tap-thoi-gian-bigo-la-gi-4270\n"
     ]
    },
    {
     "name": "stdout",
     "output_type": "stream",
     "text": [
      "Nội dung đã được lưu vào file: output_2024-03-21_10-15-13.txt\n"
     ]
    },
    {
     "name": "stdin",
     "output_type": "stream",
     "text": [
      "Nhập tên miền:  https://howkteam.vn/course/cau-truc-du-lieu-va-giai-thuat/stack-cau-truc-du-lieu-ngan-xep-4271\n"
     ]
    },
    {
     "name": "stdout",
     "output_type": "stream",
     "text": [
      "Nội dung đã được lưu vào file: output_2024-03-21_10-15-21.txt\n"
     ]
    },
    {
     "name": "stdin",
     "output_type": "stream",
     "text": [
      "Nhập tên miền:  https://howkteam.vn/course/cau-truc-du-lieu-va-giai-thuat/queue-va-deque-4272\n"
     ]
    },
    {
     "name": "stdout",
     "output_type": "stream",
     "text": [
      "Nội dung đã được lưu vào file: output_2024-03-21_10-15-28.txt\n"
     ]
    },
    {
     "name": "stdin",
     "output_type": "stream",
     "text": [
      "Nhập tên miền:  https://howkteam.vn/course/cau-truc-du-lieu-va-giai-thuat/linked-list-4273\n"
     ]
    },
    {
     "name": "stdout",
     "output_type": "stream",
     "text": [
      "Nội dung đã được lưu vào file: output_2024-03-21_10-15-36.txt\n"
     ]
    },
    {
     "name": "stdin",
     "output_type": "stream",
     "text": [
      "Nhập tên miền:  https://howkteam.vn/course/cau-truc-du-lieu-va-giai-thuat/prefix-sum-4280\n"
     ]
    },
    {
     "name": "stdout",
     "output_type": "stream",
     "text": [
      "Nội dung đã được lưu vào file: output_2024-03-21_10-15-46.txt\n"
     ]
    },
    {
     "name": "stdin",
     "output_type": "stream",
     "text": [
      "Nhập tên miền:  https://howkteam.vn/course/cau-truc-du-lieu-va-giai-thuat/de-quy-4281\n"
     ]
    },
    {
     "name": "stdout",
     "output_type": "stream",
     "text": [
      "Nội dung đã được lưu vào file: output_2024-03-21_10-16-02.txt\n"
     ]
    },
    {
     "name": "stdin",
     "output_type": "stream",
     "text": [
      "Nhập tên miền:  https://howkteam.vn/course/cau-truc-du-lieu-va-giai-thuat/quay-lui-4282\n"
     ]
    },
    {
     "name": "stdout",
     "output_type": "stream",
     "text": [
      "Nội dung đã được lưu vào file: output_2024-03-21_10-16-11.txt\n"
     ]
    },
    {
     "name": "stdin",
     "output_type": "stream",
     "text": [
      "Nhập tên miền:  https://howkteam.vn/course/cau-truc-du-lieu-va-giai-thuat/sap-xep-4283\n"
     ]
    },
    {
     "name": "stdout",
     "output_type": "stream",
     "text": [
      "Nội dung đã được lưu vào file: output_2024-03-21_10-16-19.txt\n"
     ]
    },
    {
     "name": "stdin",
     "output_type": "stream",
     "text": [
      "Nhập tên miền:  https://howkteam.vn/course/cau-truc-du-lieu-va-giai-thuat/tong-quan-ve-tim-kiem-nhi-phan-4284\n"
     ]
    },
    {
     "name": "stdout",
     "output_type": "stream",
     "text": [
      "Nội dung đã được lưu vào file: output_2024-03-21_10-16-27.txt\n"
     ]
    },
    {
     "name": "stdin",
     "output_type": "stream",
     "text": [
      "Nhập tên miền:  https://howkteam.vn/course/cau-truc-du-lieu-va-giai-thuat/ung-dung-cua-tim-kiem-nhi-phan-4293\n"
     ]
    },
    {
     "name": "stdout",
     "output_type": "stream",
     "text": [
      "Nội dung đã được lưu vào file: output_2024-03-21_10-16-36.txt\n"
     ]
    },
    {
     "name": "stdin",
     "output_type": "stream",
     "text": [
      "Nhập tên miền:  https://howkteam.vn/course/cau-truc-du-lieu-va-giai-thuat/hai-con-tro-4294\n"
     ]
    },
    {
     "name": "stdout",
     "output_type": "stream",
     "text": [
      "Nội dung đã được lưu vào file: output_2024-03-21_10-17-03.txt\n"
     ]
    },
    {
     "name": "stdin",
     "output_type": "stream",
     "text": [
      "Nhập tên miền:  https://howkteam.vn/course/cau-truc-du-lieu-va-giai-thuat/tim-kiem-max-min-tren-doan-tinh-tien-4295\n"
     ]
    },
    {
     "name": "stdout",
     "output_type": "stream",
     "text": [
      "Nội dung đã được lưu vào file: output_2024-03-21_10-17-16.txt\n"
     ]
    },
    {
     "name": "stdin",
     "output_type": "stream",
     "text": [
      "Nhập tên miền:  https://howkteam.vn/course/cau-truc-du-lieu-va-giai-thuat/sang-eratosthenes-4296\n"
     ]
    },
    {
     "name": "stdout",
     "output_type": "stream",
     "text": [
      "Nội dung đã được lưu vào file: output_2024-03-21_10-17-33.txt\n"
     ]
    },
    {
     "name": "stdin",
     "output_type": "stream",
     "text": [
      "Nhập tên miền:  https://howkteam.vn/course/cau-truc-du-lieu-va-giai-thuat/ham-mu-nhanh-4297\n"
     ]
    },
    {
     "name": "stdout",
     "output_type": "stream",
     "text": [
      "Nội dung đã được lưu vào file: output_2024-03-21_10-17-44.txt\n"
     ]
    },
    {
     "name": "stdin",
     "output_type": "stream",
     "text": [
      "Nhập tên miền:  https://howkteam.vn/course/cau-truc-du-lieu-va-giai-thuat/hash-4318\n"
     ]
    },
    {
     "name": "stdout",
     "output_type": "stream",
     "text": [
      "Nội dung đã được lưu vào file: output_2024-03-21_10-17-53.txt\n"
     ]
    },
    {
     "name": "stdin",
     "output_type": "stream",
     "text": [
      "Nhập tên miền:  https://howkteam.vn/course/cau-truc-du-lieu-va-giai-thuat/hash-4318\n"
     ]
    },
    {
     "name": "stdout",
     "output_type": "stream",
     "text": [
      "Nội dung đã được lưu vào file: output_2024-03-21_10-18-01.txt\n"
     ]
    },
    {
     "name": "stdin",
     "output_type": "stream",
     "text": [
      "Nhập tên miền:  https://howkteam.vn/course/cau-truc-du-lieu-va-giai-thuat/bfs-va-dfs-4320\n"
     ]
    },
    {
     "name": "stdout",
     "output_type": "stream",
     "text": [
      "Nội dung đã được lưu vào file: output_2024-03-21_10-18-10.txt\n"
     ]
    },
    {
     "name": "stdin",
     "output_type": "stream",
     "text": [
      "Nhập tên miền:  https://howkteam.vn/course/cau-truc-du-lieu-va-giai-thuat/segment-tree-4321\n"
     ]
    },
    {
     "name": "stdout",
     "output_type": "stream",
     "text": [
      "Nội dung đã được lưu vào file: output_2024-03-21_10-18-20.txt\n"
     ]
    },
    {
     "name": "stdin",
     "output_type": "stream",
     "text": [
      "Nhập tên miền:  https://howkteam.vn/course/cau-truc-du-lieu-va-giai-thuat/fenwick-tree-4328\n"
     ]
    },
    {
     "name": "stdout",
     "output_type": "stream",
     "text": [
      "Nội dung đã được lưu vào file: output_2024-03-21_10-18-31.txt\n"
     ]
    },
    {
     "name": "stdin",
     "output_type": "stream",
     "text": [
      "Nhập tên miền:  https://howkteam.vn/course/cau-truc-du-lieu-va-giai-thuat/trie-4329\n"
     ]
    },
    {
     "name": "stdout",
     "output_type": "stream",
     "text": [
      "Nội dung đã được lưu vào file: output_2024-03-21_10-18-38.txt\n"
     ]
    },
    {
     "name": "stdin",
     "output_type": "stream",
     "text": [
      "Nhập tên miền:  https://howkteam.vn/course/cau-truc-du-lieu-va-giai-thuat/tong-quan-ve-priority-queue-4384\n"
     ]
    },
    {
     "name": "stdout",
     "output_type": "stream",
     "text": [
      "Nội dung đã được lưu vào file: output_2024-03-21_10-18-50.txt\n"
     ]
    },
    {
     "name": "stdin",
     "output_type": "stream",
     "text": [
      "Nhập tên miền:  https://howkteam.vn/course/cau-truc-du-lieu-va-giai-thuat/tong-quan-ve-disjoint-sets-union-va-cach-xay-dung-dsu-4385\n"
     ]
    },
    {
     "name": "stdout",
     "output_type": "stream",
     "text": [
      "Nội dung đã được lưu vào file: output_2024-03-21_10-18-58.txt\n"
     ]
    },
    {
     "name": "stdin",
     "output_type": "stream",
     "text": [
      "Nhập tên miền:  https://howkteam.vn/course/cau-truc-du-lieu-va-giai-thuat/thuat-toan-floyd-warshall-tim-kiem-duong-di-ngan-nhat-tren-do-thi-4386\n"
     ]
    },
    {
     "name": "stdout",
     "output_type": "stream",
     "text": [
      "Nội dung đã được lưu vào file: output_2024-03-21_10-19-13.txt\n"
     ]
    },
    {
     "name": "stdin",
     "output_type": "stream",
     "text": [
      "Nhập tên miền:  https://howkteam.vn/course/cau-truc-du-lieu-va-giai-thuat/tim-kiem-duong-di-ngan-nhat-tren-do-thi-dijikstra-4387\n"
     ]
    },
    {
     "name": "stdout",
     "output_type": "stream",
     "text": [
      "Nội dung đã được lưu vào file: output_2024-03-21_10-19-26.txt\n"
     ]
    },
    {
     "name": "stdin",
     "output_type": "stream",
     "text": [
      "Nhập tên miền:  https://howkteam.vn/course/cau-truc-du-lieu-va-giai-thuat/tim-kiem-duong-di-ngan-nhat-tren-do-thi-bellman-ford-4389\n"
     ]
    },
    {
     "name": "stdout",
     "output_type": "stream",
     "text": [
      "Nội dung đã được lưu vào file: output_2024-03-21_10-19-35.txt\n"
     ]
    },
    {
     "name": "stdin",
     "output_type": "stream",
     "text": [
      "Nhập tên miền:  https://howkteam.vn/course/cau-truc-du-lieu-va-giai-thuat/thuat-toan-loang-4388\n"
     ]
    },
    {
     "name": "stdout",
     "output_type": "stream",
     "text": [
      "Nội dung đã được lưu vào file: output_2024-03-21_10-19-44.txt\n"
     ]
    },
    {
     "name": "stdin",
     "output_type": "stream",
     "text": [
      "Nhập tên miền:  https://howkteam.vn/course/cau-truc-du-lieu-va-giai-thuat/tim-kiem-cay-khung-nho-nhat-prim-4390\n"
     ]
    },
    {
     "name": "stdout",
     "output_type": "stream",
     "text": [
      "Nội dung đã được lưu vào file: output_2024-03-21_10-19-55.txt\n"
     ]
    },
    {
     "name": "stdin",
     "output_type": "stream",
     "text": [
      "Nhập tên miền:  https://howkteam.vn/course/cau-truc-du-lieu-va-giai-thuat/tim-kiem-cay-khung-nho-nhat-kruskal-4391\n"
     ]
    },
    {
     "name": "stdout",
     "output_type": "stream",
     "text": [
      "Nội dung đã được lưu vào file: output_2024-03-21_10-20-07.txt\n"
     ]
    },
    {
     "name": "stdin",
     "output_type": "stream",
     "text": [
      "Nhập tên miền:  https://howkteam.vn/course/cau-truc-du-lieu-va-giai-thuat/tinh-dien-tich-tam-giac-phan-1-4392\n"
     ]
    },
    {
     "name": "stdout",
     "output_type": "stream",
     "text": [
      "Nội dung đã được lưu vào file: output_2024-03-21_10-20-15.txt\n"
     ]
    },
    {
     "name": "stdin",
     "output_type": "stream",
     "text": [
      "Nhập tên miền:  https://howkteam.vn/course/cau-truc-du-lieu-va-giai-thuat/tinh-dien-tich-tam-giac-phan-2-4393\n"
     ]
    },
    {
     "name": "stdout",
     "output_type": "stream",
     "text": [
      "Nội dung đã được lưu vào file: output_2024-03-21_10-20-23.txt\n"
     ]
    },
    {
     "name": "stdin",
     "output_type": "stream",
     "text": [
      "Nhập tên miền:  https://howkteam.vn/course/cau-truc-du-lieu-va-giai-thuat/quy-hoach-dong-4394\n"
     ]
    },
    {
     "name": "stdout",
     "output_type": "stream",
     "text": [
      "Nội dung đã được lưu vào file: output_2024-03-21_10-20-32.txt\n"
     ]
    },
    {
     "name": "stdin",
     "output_type": "stream",
     "text": [
      "Nhập tên miền:  https://howkteam.vn/course/cau-truc-du-lieu-va-giai-thuat/mot-so-bai-toan-dien-hinh-ve-quy-hoach-dong-4395\n"
     ]
    },
    {
     "name": "stdout",
     "output_type": "stream",
     "text": [
      "Nội dung đã được lưu vào file: output_2024-03-21_10-20-40.txt\n"
     ]
    },
    {
     "name": "stdin",
     "output_type": "stream",
     "text": [
      "Nhập tên miền:  https://howkteam.vn/course/cau-truc-du-lieu-va-giai-thuat/mot-so-tai-lieu-tham-khao-va-chia-se-ket-thuc-4396\n"
     ]
    },
    {
     "name": "stdout",
     "output_type": "stream",
     "text": [
      "Nội dung đã được lưu vào file: output_2024-03-21_10-20-49.txt\n"
     ]
    },
    {
     "name": "stdin",
     "output_type": "stream",
     "text": [
      "Nhập tên miền:  https://vnexpress.net/bong-da-thap-be-nhe-can-4703412.html\n"
     ]
    },
    {
     "name": "stdout",
     "output_type": "stream",
     "text": [
      "Nội dung đã được lưu vào file: output_2024-03-21_10-21-29.txt\n"
     ]
    },
    {
     "name": "stdin",
     "output_type": "stream",
     "text": [
      "Nhập tên miền:  https://vnexpress.net/vinif-ky-vong-nguoi-tre-coi-lam-khoa-hoc-la-nghe-duoc-tra-luong-4724370.html\n"
     ]
    },
    {
     "name": "stdout",
     "output_type": "stream",
     "text": [
      "Nội dung đã được lưu vào file: output_2024-03-21_10-21-55.txt\n"
     ]
    },
    {
     "name": "stdin",
     "output_type": "stream",
     "text": [
      "Nhập tên miền:  https://vnexpress.net/phat-minh-doi-dau-cua-dien-thoai-khong-day-4705861.html\n"
     ]
    },
    {
     "name": "stdout",
     "output_type": "stream",
     "text": [
      "Nội dung đã được lưu vào file: output_2024-03-21_10-22-58.txt\n"
     ]
    },
    {
     "name": "stdin",
     "output_type": "stream",
     "text": [
      "Nhập tên miền:  https://vnexpress.net/het-thoi-gom-dat-4707220.html\n"
     ]
    },
    {
     "name": "stdout",
     "output_type": "stream",
     "text": [
      "Nội dung đã được lưu vào file: output_2024-03-21_10-27-00.txt\n"
     ]
    },
    {
     "name": "stdin",
     "output_type": "stream",
     "text": [
      "Nhập tên miền:  https://vnexpress.net/thuoc-la-dien-tu-cam-hay-quan-4721415.html\n"
     ]
    },
    {
     "name": "stdout",
     "output_type": "stream",
     "text": [
      "Nội dung đã được lưu vào file: output_2024-03-21_10-28-07.txt\n"
     ]
    },
    {
     "name": "stdin",
     "output_type": "stream",
     "text": [
      "Nhập tên miền:  https://vnexpress.net/an-bot-cua-hoc-sinh-4691665.html\n"
     ]
    },
    {
     "name": "stdout",
     "output_type": "stream",
     "text": [
      "Nội dung đã được lưu vào file: output_2024-03-21_10-28-28.txt\n"
     ]
    },
    {
     "name": "stdin",
     "output_type": "stream",
     "text": [
      "Nhập tên miền:  https://vnexpress.net/sot-chung-cu-cu-4717909.html\n"
     ]
    },
    {
     "name": "stdout",
     "output_type": "stream",
     "text": [
      "Nội dung đã được lưu vào file: output_2024-03-21_10-29-16.txt\n"
     ]
    },
    {
     "name": "stdin",
     "output_type": "stream",
     "text": [
      "Nhập tên miền:  https://vnexpress.net/indonesia-viet-nam-vuot-kho-tai-chao-lua-bung-karno-4724735.html\n"
     ]
    },
    {
     "name": "stdout",
     "output_type": "stream",
     "text": [
      "Nội dung đã được lưu vào file: output_2024-03-21_10-30-07.txt\n"
     ]
    },
    {
     "name": "stdin",
     "output_type": "stream",
     "text": [
      "Nhập tên miền:  https://vnexpress.net/tien-do-vao-co-phieu-ngan-hang-4724603.html\n"
     ]
    },
    {
     "name": "stdout",
     "output_type": "stream",
     "text": [
      "Nội dung đã được lưu vào file: output_2024-03-21_10-31-05.txt\n"
     ]
    },
    {
     "name": "stdin",
     "output_type": "stream",
     "text": [
      "Nhập tên miền:  https://vnexpress.net/bitcoin-truot-ve-8-900-usd-tren-mot-san-giao-dich-4724248.html\n"
     ]
    },
    {
     "name": "stdout",
     "output_type": "stream",
     "text": [
      "Nội dung đã được lưu vào file: output_2024-03-21_10-32-20.txt\n"
     ]
    }
   ],
   "source": [
    "import requests\n",
    "from bs4 import BeautifulSoup\n",
    "import datetime\n",
    "\n",
    "while True:\n",
    "    url = input('Nhập tên miền: ')\n",
    "    \n",
    "    if not url:  \n",
    "        break\n",
    "    \n",
    "    response = requests.get(url)\n",
    "\n",
    "    if response.status_code == 200:\n",
    "        soup = BeautifulSoup(response.text, 'html.parser')\n",
    "        text_content = soup.get_text()\n",
    "\n",
    "        # Tạo tên file từ thời gian hiện tại\n",
    "        current_time = datetime.datetime.now()\n",
    "        file_name = f'output_{current_time.strftime(\"%Y-%m-%d_%H-%M-%S\")}.txt'\n",
    "\n",
    "        with open(file_name, 'w', encoding='utf-8') as file:\n",
    "            file.write(text_content)\n",
    "\n",
    "        print('Nội dung đã được lưu vào file:', file_name)\n",
    "    else:\n",
    "        print('Không thể tải dữ liệu từ trang web.')\n"
   ]
  },
  {
   "cell_type": "code",
   "execution_count": null,
   "id": "3dc63b6f-5709-49a7-83d3-02cec589d437",
   "metadata": {},
   "outputs": [],
   "source": []
  },
  {
   "cell_type": "code",
   "execution_count": null,
   "id": "191b068c-b8a7-462a-8cb6-822e03eb8756",
   "metadata": {},
   "outputs": [],
   "source": []
  },
  {
   "cell_type": "code",
   "execution_count": null,
   "id": "d0149be4-d117-447f-8850-90d9508f1139",
   "metadata": {},
   "outputs": [],
   "source": []
  }
 ],
 "metadata": {
  "kernelspec": {
   "display_name": "Python 3 (ipykernel)",
   "language": "python",
   "name": "python3"
  },
  "language_info": {
   "codemirror_mode": {
    "name": "ipython",
    "version": 3
   },
   "file_extension": ".py",
   "mimetype": "text/x-python",
   "name": "python",
   "nbconvert_exporter": "python",
   "pygments_lexer": "ipython3",
   "version": "3.9.17"
  }
 },
 "nbformat": 4,
 "nbformat_minor": 5
}
