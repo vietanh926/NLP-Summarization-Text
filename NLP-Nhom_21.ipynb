{
 "cells": [
  {
   "cell_type": "markdown",
   "id": "3ccc5de6-4e8d-4df0-b545-90a54c3795ee",
   "metadata": {},
   "source": [
    "<h1>BÀI TẬP LỚN Môn : Xử Lý Ngôn Ngữ Tự Nhiên</h1>\n",
    "\n",
    "-----------------------\n",
    "\n",
    "*Nhóm 21 - Chủ đề : Tóm tắt văn bản (Text Summarization)*\n",
    "-----------------------\n",
    "* Nguyễn Việt Anh - 2121050054\n",
    "* Phạm Thị Liên - 212151542\n",
    "* Lê Danh Cần - 2121051529"
   ]
  },
  {
   "cell_type": "markdown",
   "id": "d0b6cc4a-c319-41fd-98df-a14158bb2a49",
   "metadata": {},
   "source": [
    "<h2>Extractive Summarization</h2>\n",
    "<h3>Sentence Scoring</h3>"
   ]
  },
  {
   "cell_type": "code",
   "execution_count": 142,
   "id": "bc06ce92-6bda-4940-a6ec-84d429b5485d",
   "metadata": {},
   "outputs": [
    {
     "name": "stdout",
     "output_type": "stream",
     "text": [
      "Các câu sau khi xử lý:\n",
      "['tổng quan khóa học khóa học dẫn dắt đi cơ bản sản phẩm hoàn chỉnh viết c   ', 'giúp học xây dựng phần mềm đầu ', 'nội dung giảng dạy bao gồm kiến thức ngôn ngữ  trắc nghiệm kiểm tra kiến thức  bài tập thực hành nộp ta  teaching assistant  chấm ', 'thắc mắc nội dung bài học học ta ', 'học xong chứng nhận học xong khóa học ']\n"
     ]
    }
   ],
   "source": [
    "import nltk\n",
    "from underthesea import word_tokenize, sent_tokenize\n",
    "import re\n",
    "import numpy as np \n",
    "\n",
    "# with open('New folder/output_2024-05-27_21-18-47.txt', 'r', encoding='utf-8') as file:\n",
    "#     text = file.read()\n",
    "text = \"\"\" Tổng quan khóa học\n",
    "Khóa học này sẽ dẫn dắt bạn đi từ cơ bản đến tạo ra một sản phẩm hoàn chỉnh viết bằng C++.\n",
    "Sẽ giúp người học hiểu được cách xây dựng một phần mềm từ đầu đến cuối.\n",
    "Nội dung giảng dạy sẽ bao gồm kiến thức về ngôn ngữ, trắc nghiệm để kiểm tra kiến thức, bài tập thực hành nộp cho TA (Teaching assistant) để họ chấm.\n",
    "Khi thắc mắc về nội dung bài học thì người học có thể hỏi trực tiếp Đạt hoặc các bạn TA.\n",
    "Khi học xong sẽ được cấp chứng nhận đã học xong khóa học.\n",
    " \"\"\"\n",
    "\n",
    "with open('vietnamese-stopwords.txt', 'r', encoding='utf-8') as file:\n",
    "    stopwords = file.read().splitlines()\n",
    "\n",
    "# Hàm xử lý văn bản\n",
    "def text_handle(text):\n",
    "    lower_text = text.lower()\n",
    "    clean_text = re.sub(r'\\s+', ' ', lower_text)\n",
    "    return clean_text.strip()\n",
    "\n",
    "# Hàm loại bỏ từ dừng\n",
    "def remove_stopwords(sentence, stopwords):\n",
    "    words = word_tokenize(sentence)\n",
    "    filtered_sentence = [word for word in words if word.lower() not in stopwords]\n",
    "    return ' '.join(filtered_sentence)\n",
    "\n",
    "# Hàm loại bỏ dấu câu \n",
    "def remove_punctuation(sentence):\n",
    "    sentence = re.sub(r'\\d+', '', sentence)\n",
    "    return re.sub(r'[^\\w\\s]','',sentence)\n",
    "\n",
    "# Tách các câu trong văn bản\n",
    "sentences = sent_tokenize(text_handle(text))\n",
    "\n",
    "# Xử lý từng câu\n",
    "processed_sentences = []\n",
    "for sentence in sentences: \n",
    "    cleaned_sentence = remove_stopwords(sentence, stopwords)\n",
    "    cleaned_sentence = remove_punctuation(cleaned_sentence)\n",
    "    processed_sentences.append(cleaned_sentence)\n",
    "\n",
    "\n",
    "print(\"Các câu sau khi xử lý:\")\n",
    "print(processed_sentences)\n"
   ]
  },
  {
   "cell_type": "code",
   "execution_count": 143,
   "id": "6e9fce7e-bafc-413c-9802-5fbc8d0d9a54",
   "metadata": {},
   "outputs": [
    {
     "name": "stdout",
     "output_type": "stream",
     "text": [
      "Ma trận điểm TF-IDF:  [3.69977021 2.61131061 4.61125782 2.62182286 2.10705287]\n",
      "Ma trận độ dài từng câu:  [17, 7, 25, 8, 8]\n",
      "Điểm chuẩn hóa câu trong văn bản:  [0.68, 0.28, 1.0, 0.32, 0.32]\n",
      "[2.515843742026007, 0.731166971481899, 4.611257815416505, 0.8389833144418211, 0.6742569184013338]\n"
     ]
    }
   ],
   "source": [
    "from sklearn.feature_extraction.text import TfidfVectorizer\n",
    "\n",
    "\n",
    "# Hàm tính điểm TF-IDF cho từng câu\n",
    "def calculate_tfidf(sentences):\n",
    "    tfidf_vector = TfidfVectorizer()\n",
    "    tfidf_matrix = tfidf_vector.fit_transform(sentences)\n",
    "    tfidf_score = np.asarray(tfidf_matrix.sum(axis=1)).ravel()\n",
    "    return tfidf_score\n",
    "\n",
    "# Hàm tính điểm cho mỗi câu dựa trên chiều dài và điểm TF-IDF\n",
    "def calculate_sentence_scores(sentences):\n",
    "    tfidf = calculate_tfidf(sentences)\n",
    "    print('Ma trận điểm TF-IDF: ',tfidf)\n",
    "    sentence_lengths = [len(sentence.split()) for sentence in sentences]\n",
    "    print('Ma trận độ dài từng câu: ',sentence_lengths)\n",
    "    max_sentence_length = max(sentence_lengths)\n",
    "    normalized_lengths = [length / max_sentence_length for length in sentence_lengths]\n",
    "    print('Điểm chuẩn hóa câu trong văn bản: ',normalized_lengths)\n",
    "    sentence_scores = [tfidf_score * length for tfidf_score, length in zip(tfidf, normalized_lengths)]\n",
    "    return sentence_scores\n",
    "\n",
    "sentence_scores = calculate_sentence_scores(processed_sentences)\n",
    "\n",
    "# Hiển thị điểm của từng câu\n",
    "print(sentence_scores)"
   ]
  },
  {
   "cell_type": "code",
   "execution_count": 144,
   "id": "a83b947f-b70b-44e0-bca8-b40acf209020",
   "metadata": {},
   "outputs": [
    {
     "name": "stdout",
     "output_type": "stream",
     "text": [
      "Văn bản tóm tắt:\n",
      "nội dung giảng dạy bao gồm kiến thức ngôn ngữ trắc nghiệm kiểm tra kiến thức bài tập thực hành nộp ta teaching assistant chấm\n"
     ]
    }
   ],
   "source": [
    "def summarize_text(sentences, sentence_scores, num_sentences):\n",
    "    # Sắp xếp các câu theo điểm số giảm dần\n",
    "    sorted_indices = sorted(range(len(sentence_scores)), key=lambda i: sentence_scores[i], reverse=True)\n",
    "    # Chọn ra các câu có điểm cao nhất để tạo tóm tắt\n",
    "    summary_indices = sorted_indices[:num_sentences]\n",
    "    # Sắp xếp lại các chỉ số câu theo thứ tự xuất hiện trong văn bản\n",
    "    summary_indices.sort()\n",
    "    # Tạo tóm tắt bằng cách lấy các câu được chọn\n",
    "    summary = [sentences[i] for i in summary_indices]\n",
    "    return summary\n",
    "\n",
    "\n",
    "num_summary_sentences = 1\n",
    "summary = summarize_text(processed_sentences, sentence_scores, num_summary_sentences)\n",
    "\n",
    "\n",
    "print(\"Văn bản tóm tắt:\")\n",
    "for i in summary: \n",
    "    print(text_handle(i))\n"
   ]
  }
 ],
 "metadata": {
  "kernelspec": {
   "display_name": "Python 3 (ipykernel)",
   "language": "python",
   "name": "python3"
  },
  "language_info": {
   "codemirror_mode": {
    "name": "ipython",
    "version": 3
   },
   "file_extension": ".py",
   "mimetype": "text/x-python",
   "name": "python",
   "nbconvert_exporter": "python",
   "pygments_lexer": "ipython3",
   "version": "3.9.17"
  },
  "widgets": {
   "application/vnd.jupyter.widget-state+json": {
    "state": {},
    "version_major": 2,
    "version_minor": 0
   }
  }
 },
 "nbformat": 4,
 "nbformat_minor": 5
}
