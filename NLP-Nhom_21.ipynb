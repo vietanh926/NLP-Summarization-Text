{
 "cells": [
  {
   "cell_type": "markdown",
   "id": "3ccc5de6-4e8d-4df0-b545-90a54c3795ee",
   "metadata": {},
   "source": [
    "<h1>BÀI TẬP LỚN Môn : Xử Lý Ngôn Ngữ Tự Nhiên</h1>\n",
    "\n",
    "-----------------------\n",
    "\n",
    "*Nhóm 21 - Chủ đề : Tóm tắt văn bản (Text Summarization)*\n",
    "-----------------------\n",
    "* Nguyễn Việt Anh - 2121050054\n",
    "* Phạm Thị Liên - 212151542\n",
    "* Lê Danh Cần - 2121051529"
   ]
  },
  {
   "cell_type": "markdown",
   "id": "d0b6cc4a-c319-41fd-98df-a14158bb2a49",
   "metadata": {},
   "source": [
    "<h2>Extractive Summarization</h2>\n",
    "<h3>Sentence Scoring</h3>"
   ]
  },
  {
   "cell_type": "code",
   "execution_count": 180,
   "id": "bc06ce92-6bda-4940-a6ec-84d429b5485d",
   "metadata": {},
   "outputs": [
    {
     "name": "stdout",
     "output_type": "stream",
     "text": [
      "Các câu sau khi xử lý:\n",
      "['đề xuất lao động đóng bù khoản bhxh  trốn  hưởng chế độ  báo vnexpress dự thảo trình quốc hội   ban soạn thảo cơ quan thẩm tra đề xuất bổ sung cơ chế bảo vệ lao động trường hợp khả năng đóng phá sản  giải thể  trốn ', 'cơ quan bhxh tạm thời xác nhận đóng lao động căn cứ hưởng chế độ  đóng  ', 'chủ đóng bù lao động xác nhận  cộng ', 'trường hợp chậm  trốn đóng bhxh hưởng hưu trí chế độ lao động nộp khoản chậm  trốn quỹ hưu trí tử tuất xác nhận hưởng ', 'đại biểu nguyễn hoàng bảo trân  phó chủ tịch liên đoàn lao động tỉnh bình dương  băn khoăn lao động đóng bù tiền hưởng quyền lợi đương nhiên hưởng ', 'doanh nghiệp chậm  trốn đóng bhxh  lao động mất trắng khoản lương hàng trích đóng ban đầu ', 'đóng bù doanh nghiệp vi phạm lao động đóng tỷ lệ    tiền lương đầu    khoản đóng bù hai  ', ' quy định bức xúc lao động lẫn dư luận xã hội ', 'câu doanh nghiệp nợ bhxh cơ quan nhà nước biện pháp lao động tiền đóng thay ', '  nữ đại biểu  cảnh báo nguyên nhân rời lưới an sinh ', 'trân đề nghị hiệu quả hoạt động thanh kiểm tra cơ quan bhxh  tái diễn thu tiền bhxh sai đối tượng  điển hình  chủ hộ kinh doanh cá thể giải quyết dứt điểm quyền lợi ', ' trốn đóng  nợ đóng bhxh hề mà còn ', 'trách nhiệm đứng đầu cơ quan bhxh   nữ đại biểu câu  đề nghị trách nhiệm cơ quan  luật thực thi hiệu quả người dân yên tâm hệ thống ', 'đại biểu nguyễn thành nam  phó đoàn phú thọ  đề nghị mở rộng nguồn lực lao động yếu thế công ty chậm  trốn đóng ', 'suy giảm khả năng lao động tai nạn  ốm đau  bệnh  trích đóng bhxh thông qua doanh nghiệp thiệt thòi ', ' tổng liên đoàn lao động việt nam kiến nghị thủ tướng chỉ đạo lao động thương binh xã hội rà soát  chính sách giải quyết quyền lợi  treo   lao động doanh nghiệp phá sản  giải thể  chủ trốn ', 'thống kê   tiền nợ doanh nghiệp  tỷ đồng thu hồi ', 'bộ trưởng đào ngọc dung đề nghị bảo hiểm xã hội việt nam báo cáo chính phủ  trình quốc hội chủ trương xóa khoản nợ xấu tiền lãi kết dư quỹ bảo hiểm xã hội ', 'khoản xóa giải quyết dứt điểm quyền lợi lao động ', 'bảo hiểm xã hội việt nam đề xuất phương án quyền lợi  chủ hộ kinh doanh cá thể thu sai luật  ', 'phương án  chủ hộ đóng bhxh bắt buộc hưởng chế độ  hoàn tiền đóng  tiền hưởng chế độ ', 'khoản thu hồi lẫn hoàn trả lãi ', 'dự án luật bảo hiểm xã hội sửa đổi quốc hội thảo luận kỳ họp   dự kiến thông qua  hiệu lực  ']\n"
     ]
    }
   ],
   "source": [
    "import nltk\n",
    "from underthesea import word_tokenize, sent_tokenize\n",
    "import re\n",
    "import numpy as np \n",
    "\n",
    "with open('New folder/output_2024-05-28_11-20-11.txt', 'r', encoding='utf-8') as file:\n",
    "    text = file.read()\n",
    "# text = \"\"\" Tổng quan khóa học\n",
    "# Khóa học này sẽ dẫn dắt bạn đi từ cơ bản đến tạo ra một sản phẩm hoàn chỉnh viết bằng C++.\n",
    "# Sẽ giúp người học hiểu được cách xây dựng một phần mềm từ đầu đến cuối.\n",
    "# Nội dung giảng dạy sẽ bao gồm kiến thức về ngôn ngữ, trắc nghiệm để kiểm tra kiến thức, bài tập thực hành nộp cho TA (Teaching assistant) để họ chấm.\n",
    "# Khi thắc mắc về nội dung bài học thì người học có thể hỏi trực tiếp Đạt hoặc các bạn TA.\n",
    "# Khi học xong sẽ được cấp chứng nhận đã học xong khóa học.\n",
    "#  \"\"\"\n",
    "\n",
    "with open('vietnamese-stopwords.txt', 'r', encoding='utf-8') as file:\n",
    "    stopwords = file.read().splitlines()\n",
    "\n",
    "# Hàm xử lý văn bản\n",
    "def text_handle(text):\n",
    "    lower_text = text.lower()\n",
    "    clean_text = re.sub(r'\\s+', ' ', lower_text)\n",
    "    return clean_text.strip()\n",
    "\n",
    "# Hàm loại bỏ từ dừng\n",
    "def remove_stopwords(sentence, stopwords):\n",
    "    words = word_tokenize(sentence)\n",
    "    filtered_sentence = [word for word in words if word.lower() not in stopwords]\n",
    "    return ' '.join(filtered_sentence)\n",
    "\n",
    "# Hàm loại bỏ dấu câu \n",
    "def remove_punctuation(sentence):\n",
    "    sentence = re.sub(r'\\d+', '', sentence)\n",
    "    return re.sub(r'[^\\w\\s]','',sentence)\n",
    "\n",
    "# Tách các câu trong văn bản\n",
    "sentences = sent_tokenize(text_handle(text))\n",
    "\n",
    "# Xử lý từng câu\n",
    "processed_sentences = []\n",
    "for sentence in sentences: \n",
    "    cleaned_sentence = remove_stopwords(sentence, stopwords)\n",
    "    cleaned_sentence = remove_punctuation(cleaned_sentence)\n",
    "    processed_sentences.append(cleaned_sentence)\n",
    "\n",
    "\n",
    "print(\"Các câu sau khi xử lý:\")\n",
    "print(processed_sentences)\n"
   ]
  },
  {
   "cell_type": "code",
   "execution_count": 181,
   "id": "6e9fce7e-bafc-413c-9802-5fbc8d0d9a54",
   "metadata": {},
   "outputs": [
    {
     "name": "stdout",
     "output_type": "stream",
     "text": [
      "Ma trận điểm TF-IDF:  [5.82783473 3.75478164 2.71065764 4.04860106 4.98741664 3.86985793\n",
      " 3.64778623 3.20761651 3.83583881 3.29439411 5.72891891 2.58177932\n",
      " 4.61407634 4.77308492 4.32587539 5.59329406 3.10685772 5.24541005\n",
      " 3.08007006 4.54492327 3.45604624 2.61922013 4.22556792]\n",
      "Ma trận độ dài từng câu:  [46, 16, 8, 25, 29, 17, 18, 11, 16, 11, 35, 8, 28, 24, 20, 38, 10, 35, 10, 21, 18, 7, 21]\n",
      "Điểm chuẩn hóa câu trong văn bản:  [1.0, 0.34782608695652173, 0.17391304347826086, 0.5434782608695652, 0.6304347826086957, 0.3695652173913043, 0.391304347826087, 0.2391304347826087, 0.34782608695652173, 0.2391304347826087, 0.7608695652173914, 0.17391304347826086, 0.6086956521739131, 0.5217391304347826, 0.43478260869565216, 0.8260869565217391, 0.21739130434782608, 0.7608695652173914, 0.21739130434782608, 0.45652173913043476, 0.391304347826087, 0.15217391304347827, 0.45652173913043476]\n",
      "[5.82783473110651, 1.3060110059843189, 0.4714187199575402, 2.200326661817802, 3.1442409225779553, 1.4301648872367414, 1.4273946105183244, 0.7670387309279533, 1.3342048045488257, 0.787789895723765, 4.358960040116351, 0.44900509998477217, 2.808568205428243, 2.4903051772710545, 1.8808153874455358, 4.620547269409012, 0.6754038516474998, 3.9910728665643997, 0.6695804469890002, 2.07485627385841, 1.3523659213636168, 0.39857697691342653, 1.9290636161884795]\n"
     ]
    }
   ],
   "source": [
    "from sklearn.feature_extraction.text import TfidfVectorizer\n",
    "\n",
    "\n",
    "# Hàm tính điểm TF-IDF cho từng câu\n",
    "def calculate_tfidf(sentences):\n",
    "    tfidf_vector = TfidfVectorizer()\n",
    "    tfidf_matrix = tfidf_vector.fit_transform(sentences)\n",
    "    tfidf_score = np.asarray(tfidf_matrix.sum(axis=1)).ravel()\n",
    "    return tfidf_score\n",
    "\n",
    "# Hàm tính điểm cho mỗi câu dựa trên chiều dài và điểm TF-IDF\n",
    "def calculate_sentence_scores(sentences):\n",
    "    tfidf = calculate_tfidf(sentences)\n",
    "    print('Ma trận điểm TF-IDF: ',tfidf)\n",
    "    sentence_lengths = [len(sentence.split()) for sentence in sentences]\n",
    "    print('Ma trận độ dài từng câu: ',sentence_lengths)\n",
    "    max_sentence_length = max(sentence_lengths)\n",
    "    normalized_lengths = [length / max_sentence_length for length in sentence_lengths]\n",
    "    print('Điểm chuẩn hóa câu trong văn bản: ',normalized_lengths)\n",
    "    sentence_scores = [tfidf_score * length for tfidf_score, length in zip(tfidf, normalized_lengths)]\n",
    "    return sentence_scores\n",
    "\n",
    "sentence_scores = calculate_sentence_scores(processed_sentences)\n",
    "\n",
    "# Hiển thị điểm của từng câu\n",
    "print(sentence_scores)"
   ]
  },
  {
   "cell_type": "code",
   "execution_count": 182,
   "id": "a83b947f-b70b-44e0-bca8-b40acf209020",
   "metadata": {},
   "outputs": [
    {
     "name": "stdout",
     "output_type": "stream",
     "text": [
      "Văn bản tóm tắt:\n",
      "đề xuất lao động đóng bù khoản bhxh trốn hưởng chế độ báo vnexpress dự thảo trình quốc hội ban soạn thảo cơ quan thẩm tra đề xuất bổ sung cơ chế bảo vệ lao động trường hợp khả năng đóng phá sản giải thể trốn\n",
      "tổng liên đoàn lao động việt nam kiến nghị thủ tướng chỉ đạo lao động thương binh xã hội rà soát chính sách giải quyết quyền lợi treo lao động doanh nghiệp phá sản giải thể chủ trốn\n"
     ]
    }
   ],
   "source": [
    "def summarize_text(sentences, sentence_scores, num_sentences):\n",
    "    # Sắp xếp các câu theo điểm số giảm dần\n",
    "    sorted_indices = sorted(range(len(sentence_scores)), key=lambda i: sentence_scores[i], reverse=True)\n",
    "    # Chọn ra các câu có điểm cao nhất để tạo tóm tắt\n",
    "    summary_indices = sorted_indices[:num_sentences]\n",
    "    # Sắp xếp lại các chỉ số câu theo thứ tự xuất hiện trong văn bản\n",
    "    summary_indices.sort()\n",
    "    # Tạo tóm tắt bằng cách lấy các câu được chọn\n",
    "    summary = [sentences[i] for i in summary_indices]\n",
    "    return summary\n",
    "\n",
    "\n",
    "num_summary_sentences = 2\n",
    "summary = summarize_text(processed_sentences, sentence_scores, num_summary_sentences)\n",
    "\n",
    "\n",
    "print(\"Văn bản tóm tắt:\")\n",
    "for i in summary: \n",
    "    print(text_handle(i))\n"
   ]
  },
  {
   "cell_type": "code",
   "execution_count": 172,
   "id": "313a1fc0-e3d9-457f-bb60-4bc9e063619d",
   "metadata": {},
   "outputs": [
    {
     "name": "stdout",
     "output_type": "stream",
     "text": [
      "Văn bản tóm tắt: \n",
      " cơ quan bhxh tạm thời xác nhận đóng lao động căn cứ hưởng chế độ  đóng  đề xuất lao động đóng bù khoản bhxh  trốn  hưởng chế độ  báo vnexpress   khu vực hà nội tp hồ chí minh international thời sự góc thế giới video podcasts kinh doanh bất động sản khoa học giải trí thể thao pháp luật giáo dục sức khỏe đời sống du lịch hóa xe ý kiến tâm sự thư giãn trở lại thời sự thời sự chính trị        gmt    đề xuất lao động đóng bù khoản bhxh  trốn  hưởng chế độ lao động nộp khoản doanh nghiệp chậm  trốn đóng bảo hiểm xã hội  bhxh  xác nhận hưởng hưu trí  dự thảo luật bảo hiểm xã hội \n"
     ]
    }
   ],
   "source": [
    "from sklearn.cluster import KMeans \n",
    "\n",
    "def kmean_cluster(text,num_sentence):\n",
    "    tfidf_vector = TfidfVectorizer()\n",
    "    X = tfidf_vector.fit_transform(text)\n",
    "    kmeans = KMeans(n_clusters= num_sentence)\n",
    "    kmeans.fit(X)\n",
    "\n",
    "    summary = []\n",
    "    for cluster_index in range(num_sentence):\n",
    "        sentence_indices = [i for i, label in enumerate(kmeans.labels_) if label == cluster_index]\n",
    "        \n",
    "        # Chọn câu đầu tiên từ mỗi cụm\n",
    "        first_sentence_index = sentence_indices[0]\n",
    "        \n",
    "        # Thêm câu được chọn vào bản tóm tắt\n",
    "        summary.append(text[first_sentence_index])\n",
    "    return ''.join(summary)\n",
    "\n",
    "summary = kmean_cluster(processed_sentences,num_sentence=2)\n",
    "print('Văn bản tóm tắt: '+'\\n',summary)"
   ]
  },
  {
   "cell_type": "code",
   "execution_count": 173,
   "id": "d8db3f93-2480-435b-b0ff-f4fc874726a3",
   "metadata": {},
   "outputs": [
    {
     "name": "stdout",
     "output_type": "stream",
     "text": [
      "Tóm tắt :\n",
      "đề xuất lao động đóng bù khoản bhxh  trốn  hưởng chế độ  báo vnexpress   khu vực hà nội tp hồ chí minh international thời sự góc thế giới video podcasts kinh doanh bất động sản khoa học giải trí thể thao pháp luật giáo dục sức khỏe đời sống du lịch hóa xe ý kiến tâm sự thư giãn trở lại thời sự thời sự chính trị        gmt    đề xuất lao động đóng bù khoản bhxh  trốn  hưởng chế độ lao động nộp khoản doanh nghiệp chậm  trốn đóng bảo hiểm xã hội  bhxh  xác nhận hưởng hưu trí  dự thảo luật bảo hiểm xã hội  đại biểu nguyễn hoàng bảo trân  phó chủ tịch liên đoàn lao động tỉnh bình dương  băn khoăn lao động đóng bù tiền hưởng quyền lợi đương nhiên hưởng \n"
     ]
    }
   ],
   "source": [
    "import nltk\n",
    "import numpy as np\n",
    "from sklearn.feature_extraction.text import TfidfVectorizer\n",
    "from sklearn.metrics.pairwise import cosine_similarity\n",
    "import networkx as nx\n",
    "\n",
    "\n",
    "\n",
    "def sentence_vectors(sentences):\n",
    "    vectorizer = TfidfVectorizer()\n",
    "    X = vectorizer.fit_transform(sentences)\n",
    "    return X.toarray()\n",
    "\n",
    "def build_similarity_matrix(vectors):\n",
    "    sim_matrix = cosine_similarity(vectors)\n",
    "    return sim_matrix\n",
    "\n",
    "# Xây dựng đồ thị và áp dụng thuật toán TextRank\n",
    "def text_rank(sim_matrix, sentences, num_sentences):\n",
    "    nx_graph = nx.from_numpy_array(sim_matrix)\n",
    "    scores = nx.pagerank(nx_graph)\n",
    "\n",
    "    ranked_sentences = sorted(((scores[i], s) for i, s in enumerate(sentences)), reverse=True)\n",
    "    summary = [ranked_sentences[i][1] for i in range(num_sentences)]\n",
    "    \n",
    "    return ' '.join(summary)\n",
    "\n",
    "\n",
    "sentences = processed_sentences\n",
    "vectors = sentence_vectors(sentences)\n",
    "sim_matrix = build_similarity_matrix(vectors)\n",
    "summary = text_rank(sim_matrix, sentences, num_sentences=2)\n",
    "\n",
    "print(\"Tóm tắt :\")\n",
    "print(summary)\n"
   ]
  },
  {
   "cell_type": "code",
   "execution_count": null,
   "id": "70b39269-823b-4010-827c-c5527679edf1",
   "metadata": {},
   "outputs": [],
   "source": []
  }
 ],
 "metadata": {
  "kernelspec": {
   "display_name": "Python 3 (ipykernel)",
   "language": "python",
   "name": "python3"
  },
  "language_info": {
   "codemirror_mode": {
    "name": "ipython",
    "version": 3
   },
   "file_extension": ".py",
   "mimetype": "text/x-python",
   "name": "python",
   "nbconvert_exporter": "python",
   "pygments_lexer": "ipython3",
   "version": "3.9.17"
  },
  "widgets": {
   "application/vnd.jupyter.widget-state+json": {
    "state": {},
    "version_major": 2,
    "version_minor": 0
   }
  }
 },
 "nbformat": 4,
 "nbformat_minor": 5
}
